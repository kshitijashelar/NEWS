{
  "nbformat": 4,
  "nbformat_minor": 0,
  "metadata": {
    "colab": {
      "name": "Untitled16.ipynb",
      "provenance": [],
      "collapsed_sections": []
    },
    "kernelspec": {
      "name": "python3",
      "display_name": "Python 3"
    },
    "language_info": {
      "name": "python"
    }
  },
  "cells": [
    {
      "cell_type": "markdown",
      "metadata": {
        "id": "O5O1T7QuLCqv"
      },
      "source": [
        "## COMP41680 Assignment 2\n",
        "\n",
        "## Student number: 20200155\n",
        "## Student name: Kshitija Shelar"
      ]
    },
    {
      "cell_type": "markdown",
      "metadata": {
        "id": "J_Q7cduFWV5c"
      },
      "source": [
        "## Task 1\n",
        "### Gathering data from urls, fetching data from all the pages and generating csv file from the collected data"
      ]
    },
    {
      "cell_type": "markdown",
      "metadata": {
        "id": "ebGtsv9yLTps"
      },
      "source": [
        "### Importing libraries"
      ]
    },
    {
      "cell_type": "code",
      "metadata": {
        "id": "RFkidjuLuD9h"
      },
      "source": [
        "from bs4 import BeautifulSoup\n",
        "import requests\n",
        "import csv\n",
        "import pandas as pd\n",
        "import numpy as np\n",
        "from collections import Counter\n",
        "from sklearn.feature_extraction.text import CountVectorizer, TfidfVectorizer\n",
        "from sklearn.feature_extraction import text\n",
        "from sklearn.metrics.pairwise import cosine_similarity\n",
        "from sklearn.feature_extraction.text import TfidfVectorizer\n",
        "from sklearn.ensemble import RandomForestClassifier\n",
        "from sklearn.metrics import precision_recall_fscore_support as score\n",
        "from sklearn.model_selection import train_test_split\n",
        "from sklearn.metrics import confusion_matrix\n",
        "from sklearn.metrics import accuracy_score\n",
        "import seaborn as sb\n",
        "from sklearn import metrics\n",
        "from sklearn.linear_model import LogisticRegression\n",
        "import matplotlib.pyplot as plt\n"
      ],
      "execution_count": 1,
      "outputs": []
    },
    {
      "cell_type": "markdown",
      "metadata": {
        "id": "ggU8-LFXLV9J"
      },
      "source": [
        "### Making a list of month to pass in placholder later to fetch urls for different months."
      ]
    },
    {
      "cell_type": "code",
      "metadata": {
        "id": "sNJYJfKUuVXJ"
      },
      "source": [
        "list_mon =[\"jan\",\"feb\",\"mar\",\"apr\",\"may\",\"jun\",\"jul\",\"aug\",\"sep\",\"oct\",\"nov\",\"dec\"]\n",
        "list_of_cat = ['Politics','Film','Business']  # list of categories considered for this assignment\n",
        "articles=[]  # a list to store news articles"
      ],
      "execution_count": 2,
      "outputs": []
    },
    {
      "cell_type": "markdown",
      "metadata": {
        "id": "MV2mP5bGLhYs"
      },
      "source": [
        "### Function to fetch text from all the pages from a particular month's url"
      ]
    },
    {
      "cell_type": "code",
      "metadata": {
        "id": "lXKf8cgRuaMg"
      },
      "source": [
        "def fetch_data_from_URL(r,month,page):\n",
        "  for num in range(1,page):\n",
        "    pageNumber = (\"00\" + str(num))[-3:]\n",
        "    URL = \"http://mlg.ucd.ie/modules/COMP41680/assignment2/month-%s-%s.html\"%(month,pageNumber)\n",
        "    r = requests.get(URL)\n",
        "    soup = BeautifulSoup(r.content, 'html5lib')\n",
        "    table = soup.find('div', attrs = {'id':'all'}) \n",
        "    get_text_and_make_csv(table)"
      ],
      "execution_count": 3,
      "outputs": []
    },
    {
      "cell_type": "markdown",
      "metadata": {
        "id": "0xnus-qdLr3i"
      },
      "source": [
        "### Function to read the rows i.e news and fetching title,snippet and category and storing in a dictonary and then appending to list of articles "
      ]
    },
    {
      "cell_type": "code",
      "metadata": {
        "id": "tnx_j02gueGN"
      },
      "source": [
        "def get_text_and_make_csv(table):\n",
        "  for row in table.findAll('div', attrs = {'class':'article'}):\n",
        "    article = {}\n",
        "    label = row.find_all('p', class_='metadata')[1].text.split(\":\")[1].replace(\" \",\"\")\n",
        "    if( label in list_of_cat):\n",
        "      article['title'] = row.h5.text.replace('\\xa0[0-9]','')\n",
        "      article['snippet']=row.find_all('p', class_='snippet')[0].text\n",
        "      article['label']=label\n",
        "      articles.append(article)"
      ],
      "execution_count": 4,
      "outputs": []
    },
    {
      "cell_type": "markdown",
      "metadata": {
        "id": "oACyBAadL7hL"
      },
      "source": [
        "### Sending request to the urls for fetching data for every month as well as finding out how many page number it has."
      ]
    },
    {
      "cell_type": "code",
      "metadata": {
        "id": "BQI9AOL9ugtX"
      },
      "source": [
        "for month in list_mon:\n",
        "  URL = \"http://mlg.ucd.ie/modules/COMP41680/assignment2/month-%s-001.html\"%(month)\n",
        "  r = requests.get(URL)\n",
        "  soup = BeautifulSoup(r.content, 'html5lib')\n",
        "  name = soup.find('h4', attrs={'class': 'results'})\n",
        "  page = int(name.text.split(\" \")[-1])\n",
        "  fetch_data_from_URL(r,month,page)"
      ],
      "execution_count": 5,
      "outputs": []
    },
    {
      "cell_type": "markdown",
      "metadata": {
        "id": "WUCHcY7yMfLr"
      },
      "source": [
        "### Making a csv file with the datat fetched from the website by writing it from the dictionary to the csv file."
      ]
    },
    {
      "cell_type": "code",
      "metadata": {
        "id": "l6EXiNLiuim-"
      },
      "source": [
        "filename = 'news.csv'\n",
        "with open(filename, 'w', newline='') as f:\n",
        "  w = csv.DictWriter(f,['title','snippet','label'])\n",
        "  w.writeheader()\n",
        "  for article in articles:\n",
        "    w.writerow(article)"
      ],
      "execution_count": 6,
      "outputs": []
    },
    {
      "cell_type": "markdown",
      "metadata": {
        "id": "nzZzqyGdMsxZ"
      },
      "source": [
        "### Loading data from csv to dataframe"
      ]
    },
    {
      "cell_type": "code",
      "metadata": {
        "id": "V0giX_6oukY4"
      },
      "source": [
        "df = pd.read_csv(\"news.csv\")\n"
      ],
      "execution_count": 7,
      "outputs": []
    },
    {
      "cell_type": "code",
      "metadata": {
        "colab": {
          "base_uri": "https://localhost:8080/",
          "height": 204
        },
        "id": "WZhyUG73A4rw",
        "outputId": "b820c3dc-262d-4681-c045-7febce522301"
      },
      "source": [
        "df.head()"
      ],
      "execution_count": 8,
      "outputs": [
        {
          "output_type": "execute_result",
          "data": {
            "text/html": [
              "<div>\n",
              "<style scoped>\n",
              "    .dataframe tbody tr th:only-of-type {\n",
              "        vertical-align: middle;\n",
              "    }\n",
              "\n",
              "    .dataframe tbody tr th {\n",
              "        vertical-align: top;\n",
              "    }\n",
              "\n",
              "    .dataframe thead th {\n",
              "        text-align: right;\n",
              "    }\n",
              "</style>\n",
              "<table border=\"1\" class=\"dataframe\">\n",
              "  <thead>\n",
              "    <tr style=\"text-align: right;\">\n",
              "      <th></th>\n",
              "      <th>title</th>\n",
              "      <th>snippet</th>\n",
              "      <th>label</th>\n",
              "    </tr>\n",
              "  </thead>\n",
              "  <tbody>\n",
              "    <tr>\n",
              "      <th>0</th>\n",
              "      <td>6. Zero-carbon electricity outstrips fossil fu...</td>\n",
              "      <td>Summary: Zero-carbon energy became Britain’s l...</td>\n",
              "      <td>Business</td>\n",
              "    </tr>\n",
              "    <tr>\n",
              "      <th>1</th>\n",
              "      <td>8. War epics, airmen and young Sopranos: essen...</td>\n",
              "      <td>1917 An epic of Lean-ian proportions is delive...</td>\n",
              "      <td>Film</td>\n",
              "    </tr>\n",
              "    <tr>\n",
              "      <th>2</th>\n",
              "      <td>12. The most exciting movies of 2020 – horror</td>\n",
              "      <td>The Grudge A belated English language reboot o...</td>\n",
              "      <td>Film</td>\n",
              "    </tr>\n",
              "    <tr>\n",
              "      <th>3</th>\n",
              "      <td>14. US election, Brexit and China to sway the ...</td>\n",
              "      <td>After profiting from strong markets in 2019, i...</td>\n",
              "      <td>Business</td>\n",
              "    </tr>\n",
              "    <tr>\n",
              "      <th>4</th>\n",
              "      <td>16. Clive Lewis calls for unity among Labour l...</td>\n",
              "      <td>Summary: The Labour leadership hopeful Clive L...</td>\n",
              "      <td>Politics</td>\n",
              "    </tr>\n",
              "  </tbody>\n",
              "</table>\n",
              "</div>"
            ],
            "text/plain": [
              "                                               title  ...     label\n",
              "0  6. Zero-carbon electricity outstrips fossil fu...  ...  Business\n",
              "1  8. War epics, airmen and young Sopranos: essen...  ...      Film\n",
              "2      12. The most exciting movies of 2020 – horror  ...      Film\n",
              "3  14. US election, Brexit and China to sway the ...  ...  Business\n",
              "4  16. Clive Lewis calls for unity among Labour l...  ...  Politics\n",
              "\n",
              "[5 rows x 3 columns]"
            ]
          },
          "metadata": {
            "tags": []
          },
          "execution_count": 8
        }
      ]
    },
    {
      "cell_type": "markdown",
      "metadata": {
        "id": "RJK93LhmMvKC"
      },
      "source": [
        "### Making list of stop words to later clean the data"
      ]
    },
    {
      "cell_type": "code",
      "metadata": {
        "colab": {
          "base_uri": "https://localhost:8080/"
        },
        "id": "EBHoPTZbwu4J",
        "outputId": "9b718125-39b9-4315-b907-5bfa56315086"
      },
      "source": [
        "import re\n",
        "from nltk.corpus import stopwords\n",
        "import nltk\n",
        "nltk.download('stopwords')\n",
        "stop_words = set(stopwords.words('english'))"
      ],
      "execution_count": 9,
      "outputs": [
        {
          "output_type": "stream",
          "text": [
            "[nltk_data] Downloading package stopwords to /root/nltk_data...\n",
            "[nltk_data]   Package stopwords is already up-to-date!\n"
          ],
          "name": "stdout"
        }
      ]
    },
    {
      "cell_type": "markdown",
      "metadata": {
        "id": "GJXK6otdMzwQ"
      },
      "source": [
        "### Creating a datafram with the cleaned data (removed 1. 2. and other numbers from title and other unnecessary characters) and merged title and snippet to be one column"
      ]
    },
    {
      "cell_type": "code",
      "metadata": {
        "id": "eOZpXAtWxBp0"
      },
      "source": [
        "document = []\n",
        "label = []\n",
        "title = df['title']\n",
        "snippet = df['snippet']\n",
        "lbl = df['label']\n",
        "for i in range(len(df)):\n",
        "  doc = title[i] + snippet[i]\n",
        "  doc = re.sub('[0-9.]', '', doc)\n",
        "  doc = re.sub('\\xa0','',doc)\n",
        "  document.append(doc)\n",
        "  label.append(lbl[i])\n"
      ],
      "execution_count": 10,
      "outputs": []
    },
    {
      "cell_type": "code",
      "metadata": {
        "id": "kFXONtZlxdeP"
      },
      "source": [
        "data_frame = list(zip(document,label))"
      ],
      "execution_count": 11,
      "outputs": []
    },
    {
      "cell_type": "code",
      "metadata": {
        "id": "cT072RIOxhB9"
      },
      "source": [
        "data_frame = pd.DataFrame(data_frame, columns=['Title','Category'])"
      ],
      "execution_count": 12,
      "outputs": []
    },
    {
      "cell_type": "code",
      "metadata": {
        "colab": {
          "base_uri": "https://localhost:8080/",
          "height": 204
        },
        "id": "o2OBvrrIxisf",
        "outputId": "c52df744-bfcf-419a-a171-c6ed6ee9508b"
      },
      "source": [
        "data_frame.head()\n"
      ],
      "execution_count": 13,
      "outputs": [
        {
          "output_type": "execute_result",
          "data": {
            "text/html": [
              "<div>\n",
              "<style scoped>\n",
              "    .dataframe tbody tr th:only-of-type {\n",
              "        vertical-align: middle;\n",
              "    }\n",
              "\n",
              "    .dataframe tbody tr th {\n",
              "        vertical-align: top;\n",
              "    }\n",
              "\n",
              "    .dataframe thead th {\n",
              "        text-align: right;\n",
              "    }\n",
              "</style>\n",
              "<table border=\"1\" class=\"dataframe\">\n",
              "  <thead>\n",
              "    <tr style=\"text-align: right;\">\n",
              "      <th></th>\n",
              "      <th>Title</th>\n",
              "      <th>Category</th>\n",
              "    </tr>\n",
              "  </thead>\n",
              "  <tbody>\n",
              "    <tr>\n",
              "      <th>0</th>\n",
              "      <td>Zero-carbon electricity outstrips fossil fuels...</td>\n",
              "      <td>Business</td>\n",
              "    </tr>\n",
              "    <tr>\n",
              "      <th>1</th>\n",
              "      <td>War epics, airmen and young Sopranos: essentia...</td>\n",
              "      <td>Film</td>\n",
              "    </tr>\n",
              "    <tr>\n",
              "      <th>2</th>\n",
              "      <td>The most exciting movies of  – horrorThe Grudg...</td>\n",
              "      <td>Film</td>\n",
              "    </tr>\n",
              "    <tr>\n",
              "      <th>3</th>\n",
              "      <td>US election, Brexit and China to sway the mark...</td>\n",
              "      <td>Business</td>\n",
              "    </tr>\n",
              "    <tr>\n",
              "      <th>4</th>\n",
              "      <td>Clive Lewis calls for unity among Labour leade...</td>\n",
              "      <td>Politics</td>\n",
              "    </tr>\n",
              "  </tbody>\n",
              "</table>\n",
              "</div>"
            ],
            "text/plain": [
              "                                               Title  Category\n",
              "0  Zero-carbon electricity outstrips fossil fuels...  Business\n",
              "1  War epics, airmen and young Sopranos: essentia...      Film\n",
              "2  The most exciting movies of  – horrorThe Grudg...      Film\n",
              "3  US election, Brexit and China to sway the mark...  Business\n",
              "4  Clive Lewis calls for unity among Labour leade...  Politics"
            ]
          },
          "metadata": {
            "tags": []
          },
          "execution_count": 13
        }
      ]
    },
    {
      "cell_type": "markdown",
      "metadata": {
        "id": "rEUR-1ghVOBI"
      },
      "source": [
        "## Task 2 \n",
        "### Creating 3 seperate data frames with combinations of categories chosen. Here the combinations are Politics and Film, Film and Buisness, and Politics and Buisness."
      ]
    },
    {
      "cell_type": "code",
      "metadata": {
        "id": "ueIUp54Vv9M3"
      },
      "source": [
        "df1 = data_frame[data_frame['Category'] != \"Business\"]\n"
      ],
      "execution_count": 14,
      "outputs": []
    },
    {
      "cell_type": "code",
      "metadata": {
        "id": "iyopZayNwM2D"
      },
      "source": [
        "df2 = data_frame[data_frame['Category'] != \"Politics\"]"
      ],
      "execution_count": 15,
      "outputs": []
    },
    {
      "cell_type": "code",
      "metadata": {
        "id": "iass6_gJwO0v"
      },
      "source": [
        "df3 = data_frame[data_frame['Category'] != \"Film\"]\n"
      ],
      "execution_count": 16,
      "outputs": []
    },
    {
      "cell_type": "code",
      "metadata": {
        "colab": {
          "base_uri": "https://localhost:8080/",
          "height": 204
        },
        "id": "RYFrlseTA_KK",
        "outputId": "fa2eb9e2-5b9b-48a2-8c71-1425f007349d"
      },
      "source": [
        "df3.head()"
      ],
      "execution_count": 17,
      "outputs": [
        {
          "output_type": "execute_result",
          "data": {
            "text/html": [
              "<div>\n",
              "<style scoped>\n",
              "    .dataframe tbody tr th:only-of-type {\n",
              "        vertical-align: middle;\n",
              "    }\n",
              "\n",
              "    .dataframe tbody tr th {\n",
              "        vertical-align: top;\n",
              "    }\n",
              "\n",
              "    .dataframe thead th {\n",
              "        text-align: right;\n",
              "    }\n",
              "</style>\n",
              "<table border=\"1\" class=\"dataframe\">\n",
              "  <thead>\n",
              "    <tr style=\"text-align: right;\">\n",
              "      <th></th>\n",
              "      <th>Title</th>\n",
              "      <th>Category</th>\n",
              "    </tr>\n",
              "  </thead>\n",
              "  <tbody>\n",
              "    <tr>\n",
              "      <th>0</th>\n",
              "      <td>Zero-carbon electricity outstrips fossil fuels...</td>\n",
              "      <td>Business</td>\n",
              "    </tr>\n",
              "    <tr>\n",
              "      <th>3</th>\n",
              "      <td>US election, Brexit and China to sway the mark...</td>\n",
              "      <td>Business</td>\n",
              "    </tr>\n",
              "    <tr>\n",
              "      <th>4</th>\n",
              "      <td>Clive Lewis calls for unity among Labour leade...</td>\n",
              "      <td>Politics</td>\n",
              "    </tr>\n",
              "    <tr>\n",
              "      <th>5</th>\n",
              "      <td>Greggs launches meatless steak bake to beef up...</td>\n",
              "      <td>Business</td>\n",
              "    </tr>\n",
              "    <tr>\n",
              "      <th>6</th>\n",
              "      <td>Sadiq Khan pledges free London travel for disa...</td>\n",
              "      <td>Politics</td>\n",
              "    </tr>\n",
              "  </tbody>\n",
              "</table>\n",
              "</div>"
            ],
            "text/plain": [
              "                                               Title  Category\n",
              "0  Zero-carbon electricity outstrips fossil fuels...  Business\n",
              "3  US election, Brexit and China to sway the mark...  Business\n",
              "4  Clive Lewis calls for unity among Labour leade...  Politics\n",
              "5  Greggs launches meatless steak bake to beef up...  Business\n",
              "6  Sadiq Khan pledges free London travel for disa...  Politics"
            ]
          },
          "metadata": {
            "tags": []
          },
          "execution_count": 17
        }
      ]
    },
    {
      "cell_type": "markdown",
      "metadata": {
        "id": "XbyGclFBVmJ3"
      },
      "source": [
        "### Function to clean the text data by removing the punctuation marks, converting everything into lower case and removing the stop words."
      ]
    },
    {
      "cell_type": "code",
      "metadata": {
        "id": "2Y8MbKCjyELE"
      },
      "source": [
        "import string\n",
        "def clean_text(text):\n",
        "    text = \"\".join([word.lower() for word in text if word not in string.punctuation])\n",
        "    tokens = re.split('\\W+', text)\n",
        "    text = [word for word in tokens if word not in stop_words]\n",
        "    return text"
      ],
      "execution_count": 18,
      "outputs": []
    },
    {
      "cell_type": "markdown",
      "metadata": {
        "id": "my7jVFDpVuyg"
      },
      "source": [
        "### Function to perform TFIDF vectorization and training the logistic regression model to perform binary classification and generating the classification report."
      ]
    },
    {
      "cell_type": "code",
      "metadata": {
        "id": "IaHIr9xolu0x"
      },
      "source": [
        "def trainNPredict(df, label):\n",
        "  tfidf_vect = TfidfVectorizer(max_features=1500, min_df=5, max_df=0.7,analyzer=clean_text)\n",
        "  X_tfidf = tfidf_vect.fit_transform(df['Title'])\n",
        "  X_features =pd.DataFrame(X_tfidf.toarray())\n",
        "  X_train, X_test, y_train, y_test = train_test_split(X_features, df['Category'], test_size=0.2)\n",
        "  sb.countplot(y_train)\n",
        "  plt.show()  \n",
        "  lr = LogisticRegression(random_state=0).fit(X_train, y_train)\n",
        "  y_pred=lr.predict(X_test)\n",
        "  print(\"classification report : %s\"%(label))\n",
        "  print(metrics.classification_report(y_test , y_pred))\n",
        "  print(\"accuracy: \", accuracy_score(y_test, y_pred))\n",
        "  "
      ],
      "execution_count": 19,
      "outputs": []
    },
    {
      "cell_type": "code",
      "metadata": {
        "id": "2MscMiD1mpIK"
      },
      "source": [
        "dfs = [(df1,'Film & Politics'),(df2,'Business & Film'),(df3,'Politics & Business')]"
      ],
      "execution_count": 20,
      "outputs": []
    },
    {
      "cell_type": "code",
      "metadata": {
        "colab": {
          "base_uri": "https://localhost:8080/",
          "height": 1000
        },
        "id": "enVbnlttmskx",
        "outputId": "dc23a9ee-4fb5-4ca5-82a5-efb93e55947e"
      },
      "source": [
        "for df,label in dfs:\n",
        "  trainNPredict(df,label)"
      ],
      "execution_count": 21,
      "outputs": [
        {
          "output_type": "stream",
          "text": [
            "/usr/local/lib/python3.7/dist-packages/seaborn/_decorators.py:43: FutureWarning: Pass the following variable as a keyword arg: x. From version 0.12, the only valid positional argument will be `data`, and passing other arguments without an explicit keyword will result in an error or misinterpretation.\n",
            "  FutureWarning\n"
          ],
          "name": "stderr"
        },
        {
          "output_type": "display_data",
          "data": {
            "image/png": "[encoded data removed]",
            "text/plain": [
              "<Figure size 432x288 with 1 Axes>"
            ]
          },
          "metadata": {
            "tags": [],
            "needs_background": "light"
          }
        },
        {
          "output_type": "stream",
          "text": [
            "classification report : Film & Politics\n",
            "              precision    recall  f1-score   support\n",
            "\n",
            "        Film       0.97      0.99      0.98       351\n",
            "    Politics       0.99      0.97      0.98       349\n",
            "\n",
            "    accuracy                           0.98       700\n",
            "   macro avg       0.98      0.98      0.98       700\n",
            "weighted avg       0.98      0.98      0.98       700\n",
            "\n",
            "accuracy:  0.9757142857142858\n"
          ],
          "name": "stdout"
        },
        {
          "output_type": "stream",
          "text": [
            "/usr/local/lib/python3.7/dist-packages/seaborn/_decorators.py:43: FutureWarning: Pass the following variable as a keyword arg: x. From version 0.12, the only valid positional argument will be `data`, and passing other arguments without an explicit keyword will result in an error or misinterpretation.\n",
            "  FutureWarning\n"
          ],
          "name": "stderr"
        },
        {
          "output_type": "display_data",
          "data": {
            "image/png": "[encoded data removed]",
            "text/plain": [
              "<Figure size 432x288 with 1 Axes>"
            ]
          },
          "metadata": {
            "tags": [],
            "needs_background": "light"
          }
        },
        {
          "output_type": "stream",
          "text": [
            "classification report : Business & Film\n",
            "              precision    recall  f1-score   support\n",
            "\n",
            "    Business       0.96      0.99      0.97       337\n",
            "        Film       0.99      0.96      0.97       367\n",
            "\n",
            "    accuracy                           0.97       704\n",
            "   macro avg       0.97      0.97      0.97       704\n",
            "weighted avg       0.97      0.97      0.97       704\n",
            "\n",
            "accuracy:  0.9730113636363636\n"
          ],
          "name": "stdout"
        },
        {
          "output_type": "stream",
          "text": [
            "/usr/local/lib/python3.7/dist-packages/seaborn/_decorators.py:43: FutureWarning: Pass the following variable as a keyword arg: x. From version 0.12, the only valid positional argument will be `data`, and passing other arguments without an explicit keyword will result in an error or misinterpretation.\n",
            "  FutureWarning\n"
          ],
          "name": "stderr"
        },
        {
          "output_type": "display_data",
          "data": {
            "image/png": "[encoded data removed]",
            "text/plain": [
              "<Figure size 432x288 with 1 Axes>"
            ]
          },
          "metadata": {
            "tags": [],
            "needs_background": "light"
          }
        },
        {
          "output_type": "stream",
          "text": [
            "classification report : Politics & Business\n",
            "              precision    recall  f1-score   support\n",
            "\n",
            "    Business       0.90      0.92      0.91       381\n",
            "    Politics       0.91      0.87      0.89       327\n",
            "\n",
            "    accuracy                           0.90       708\n",
            "   macro avg       0.90      0.90      0.90       708\n",
            "weighted avg       0.90      0.90      0.90       708\n",
            "\n",
            "accuracy:  0.9011299435028248\n"
          ],
          "name": "stdout"
        }
      ]
    },
    {
      "cell_type": "markdown",
      "metadata": {
        "id": "tOLys55WV6oD"
      },
      "source": [
        "## Task 3\n",
        "\n",
        "### Using the whole data for training and classifying 3 different categories. Used randomforest classifier for multi class classification."
      ]
    },
    {
      "cell_type": "code",
      "metadata": {
        "colab": {
          "base_uri": "https://localhost:8080/",
          "height": 537
        },
        "id": "g6oqGsX6QxdH",
        "outputId": "0123ee2f-994d-48a6-d510-394344fd2123"
      },
      "source": [
        "\n",
        "tfidf_vect = TfidfVectorizer(max_features=1500, min_df=5, max_df=0.7,analyzer=clean_text)\n",
        "X_tfidf = tfidf_vect.fit_transform(data_frame['Title'])\n",
        "X_features =pd.DataFrame(X_tfidf.toarray())\n",
        "X_train, X_test, y_train, y_test = train_test_split(X_features, data_frame['Category'], test_size=0.2)\n",
        "sb.countplot(y_train)\n",
        "plt.show()  \n",
        "rf = RandomForestClassifier(n_estimators=100, max_depth=10, n_jobs=-1)\n",
        "rf_model = rf.fit(X_train, y_train)\n",
        "y_pred = rf_model.predict(X_test)\n",
        "print(\"classification report :\")\n",
        "print(metrics.classification_report(y_test , y_pred))\n",
        "print(\"accuracy: \", accuracy_score(y_test, y_pred))\n",
        "\n"
      ],
      "execution_count": 22,
      "outputs": [
        {
          "output_type": "stream",
          "text": [
            "/usr/local/lib/python3.7/dist-packages/seaborn/_decorators.py:43: FutureWarning: Pass the following variable as a keyword arg: x. From version 0.12, the only valid positional argument will be `data`, and passing other arguments without an explicit keyword will result in an error or misinterpretation.\n",
            "  FutureWarning\n"
          ],
          "name": "stderr"
        },
        {
          "output_type": "display_data",
          "data": {
            "image/png": "[encoded data removed]",
            "text/plain": [
              "<Figure size 432x288 with 1 Axes>"
            ]
          },
          "metadata": {
            "tags": [],
            "needs_background": "light"
          }
        },
        {
          "output_type": "stream",
          "text": [
            "classification report :\n",
            "              precision    recall  f1-score   support\n",
            "\n",
            "    Business       0.86      0.79      0.82       392\n",
            "        Film       0.79      0.97      0.87       355\n",
            "    Politics       0.91      0.78      0.84       309\n",
            "\n",
            "    accuracy                           0.85      1056\n",
            "   macro avg       0.86      0.85      0.85      1056\n",
            "weighted avg       0.85      0.85      0.85      1056\n",
            "\n",
            "accuracy:  0.8475378787878788\n"
          ],
          "name": "stdout"
        }
      ]
    }
  ]
}